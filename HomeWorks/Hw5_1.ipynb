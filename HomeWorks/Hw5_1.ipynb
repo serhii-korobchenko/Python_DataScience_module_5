{
  "nbformat": 4,
  "nbformat_minor": 0,
  "metadata": {
    "colab": {
      "provenance": []
    },
    "kernelspec": {
      "name": "python3",
      "display_name": "Python 3"
    },
    "language_info": {
      "name": "python"
    }
  },
  "cells": [
    {
      "cell_type": "markdown",
      "source": [
        "Первая часть#\n",
        "\n",
        "Для прямоугольной области площадью 1000 м2, примыкающей к прямому участку реки, необходимо построить ограду (причем со стороны реки ограду строить не нужно). \n",
        "\n",
        "При каких размерах области a, b длина ограды будет минимальной? \n",
        "\n",
        "Используйте функцию minimize с параметрами ограничениями bounds и constraints"
      ],
      "metadata": {
        "id": "axuIP2-ZaXJb"
      }
    },
    {
      "cell_type": "code",
      "execution_count": 1,
      "metadata": {
        "id": "PJxDX_4aaQvg"
      },
      "outputs": [],
      "source": [
        "from scipy.optimize import minimize"
      ]
    },
    {
      "cell_type": "markdown",
      "source": [
        "Set up goal func"
      ],
      "metadata": {
        "id": "tw00sRCEpEB0"
      }
    },
    {
      "cell_type": "code",
      "source": [
        "def goal_func(x):\n",
        "    a, b = x\n",
        "    return a + 2*b"
      ],
      "metadata": {
        "id": "HEAxNecroco7"
      },
      "execution_count": 2,
      "outputs": []
    },
    {
      "cell_type": "markdown",
      "source": [
        "Set up constraints func"
      ],
      "metadata": {
        "id": "EnncuPyapIJ_"
      }
    },
    {
      "cell_type": "code",
      "source": [
        "def constraint(x):\n",
        "    return x[0]*x[1] - 1000"
      ],
      "metadata": {
        "id": "SiqhgNvZofjj"
      },
      "execution_count": 3,
      "outputs": []
    },
    {
      "cell_type": "markdown",
      "source": [
        "Set up initial points"
      ],
      "metadata": {
        "id": "AWmV7i2RpPy5"
      }
    },
    {
      "cell_type": "code",
      "source": [
        "x0 = [50, 20]"
      ],
      "metadata": {
        "id": "t3L8wTZ2oi9L"
      },
      "execution_count": 4,
      "outputs": []
    },
    {
      "cell_type": "markdown",
      "source": [
        "Set up bounds"
      ],
      "metadata": {
        "id": "LZ6bCx1mpUm5"
      }
    },
    {
      "cell_type": "code",
      "source": [
        "bounds = ((0, 1000), (0, 1000))"
      ],
      "metadata": {
        "id": "AqSvTmJrooPU"
      },
      "execution_count": 5,
      "outputs": []
    },
    {
      "cell_type": "markdown",
      "source": [
        "Set up constrains"
      ],
      "metadata": {
        "id": "5gnUIscYpa10"
      }
    },
    {
      "cell_type": "code",
      "source": [
        "cons = {'type': 'eq', 'fun': constraint}"
      ],
      "metadata": {
        "id": "Dl6s5zgeoqjN"
      },
      "execution_count": 6,
      "outputs": []
    },
    {
      "cell_type": "markdown",
      "source": [
        "define minimize func"
      ],
      "metadata": {
        "id": "bLNFCV9IpjW0"
      }
    },
    {
      "cell_type": "code",
      "source": [
        "solution = minimize(goal_func, x0, method='SLSQP', bounds=bounds, constraints=cons)"
      ],
      "metadata": {
        "id": "YXDzkpexotV8"
      },
      "execution_count": 7,
      "outputs": []
    },
    {
      "cell_type": "markdown",
      "source": [
        "Get result"
      ],
      "metadata": {
        "id": "nwTIL42UpvcE"
      }
    },
    {
      "cell_type": "code",
      "source": [
        "solution"
      ],
      "metadata": {
        "colab": {
          "base_uri": "https://localhost:8080/"
        },
        "id": "J8qDHRp2ov43",
        "outputId": "4d930fc6-d11b-4688-80f8-d2666f239566"
      },
      "execution_count": 8,
      "outputs": [
        {
          "output_type": "execute_result",
          "data": {
            "text/plain": [
              " message: Optimization terminated successfully\n",
              " success: True\n",
              "  status: 0\n",
              "     fun: 89.44271909985645\n",
              "       x: [ 4.472e+01  2.236e+01]\n",
              "     nit: 8\n",
              "     jac: [ 1.000e+00  2.000e+00]\n",
              "    nfev: 24\n",
              "    njev: 8"
            ]
          },
          "metadata": {},
          "execution_count": 8
        }
      ]
    },
    {
      "cell_type": "markdown",
      "source": [
        "Our result:\n",
        " We have got minimal lenth  of fance (89,44 m) with next side sizes: a = 44,72 m, b = 22,36 m\n"
      ],
      "metadata": {
        "id": "gv8LWn-zpzbP"
      }
    }
  ]
}